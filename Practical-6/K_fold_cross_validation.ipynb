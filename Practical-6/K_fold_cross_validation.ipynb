{
  "nbformat": 4,
  "nbformat_minor": 0,
  "metadata": {
    "colab": {
      "name": "K fold cross validation.ipynb",
      "provenance": []
    },
    "kernelspec": {
      "name": "python3",
      "display_name": "Python 3"
    },
    "language_info": {
      "name": "python"
    }
  },
  "cells": [
    {
      "cell_type": "code",
      "metadata": {
        "id": "l15DmR7VUZHP"
      },
      "source": [
        "from sklearn.datasets import load_digits\n",
        "from sklearn.linear_model import LogisticRegression\n",
        "from sklearn.svm import SVC\n",
        "from sklearn.neighbors import KNeighborsClassifier\n",
        "from sklearn.model_selection import train_test_split\n",
        "from sklearn.model_selection import KFold\n",
        "from sklearn.model_selection import StratifiedKFold\n",
        "from sklearn.model_selection import cross_val_score\n",
        "d = load_digits()"
      ],
      "execution_count": 1,
      "outputs": []
    },
    {
      "cell_type": "code",
      "metadata": {
        "id": "gtAkSMPnUnOE"
      },
      "source": [
        "X_train, X_test, y_train, y_test = train_test_split(d.data, d.target, test_size=0.2)"
      ],
      "execution_count": 2,
      "outputs": []
    },
    {
      "cell_type": "markdown",
      "metadata": {
        "id": "-awdcPd-UsJi"
      },
      "source": [
        "Fitting Logistic Regression\n",
        "\n"
      ]
    },
    {
      "cell_type": "code",
      "metadata": {
        "colab": {
          "base_uri": "https://localhost:8080/"
        },
        "id": "7SxqlllKUv0S",
        "outputId": "0dc8b0fd-d0f3-4b58-cebf-40bf80b55d24"
      },
      "source": [
        "l = LogisticRegression(max_iter=10000)\n",
        "l.fit(X_train, y_train)\n",
        "l.score(X_test, y_test)"
      ],
      "execution_count": 3,
      "outputs": [
        {
          "output_type": "execute_result",
          "data": {
            "text/plain": [
              "0.9555555555555556"
            ]
          },
          "metadata": {
            "tags": []
          },
          "execution_count": 3
        }
      ]
    },
    {
      "cell_type": "markdown",
      "metadata": {
        "id": "EytXOy7zU3q5"
      },
      "source": [
        "Fitting SVM"
      ]
    },
    {
      "cell_type": "code",
      "metadata": {
        "colab": {
          "base_uri": "https://localhost:8080/"
        },
        "id": "AsRh6s_sU4wq",
        "outputId": "abd272f6-5010-4249-94d3-9e587e2139bb"
      },
      "source": [
        "s =SVC()\n",
        "s.fit(X_train, y_train)\n",
        "s.score(X_test, y_test)"
      ],
      "execution_count": 4,
      "outputs": [
        {
          "output_type": "execute_result",
          "data": {
            "text/plain": [
              "0.975"
            ]
          },
          "metadata": {
            "tags": []
          },
          "execution_count": 4
        }
      ]
    },
    {
      "cell_type": "markdown",
      "metadata": {
        "id": "aauiT5kJU8Wa"
      },
      "source": [
        "Fitting KNN"
      ]
    },
    {
      "cell_type": "code",
      "metadata": {
        "colab": {
          "base_uri": "https://localhost:8080/"
        },
        "id": "R-AxGE2cU_WY",
        "outputId": "48176a73-6bbb-41ae-89a7-10e776b34960"
      },
      "source": [
        "k = KNeighborsClassifier()\n",
        "k.fit(X_train, y_train)\n",
        "k.score(X_test, y_test)"
      ],
      "execution_count": 5,
      "outputs": [
        {
          "output_type": "execute_result",
          "data": {
            "text/plain": [
              "0.975"
            ]
          },
          "metadata": {
            "tags": []
          },
          "execution_count": 5
        }
      ]
    },
    {
      "cell_type": "markdown",
      "metadata": {
        "id": "j4p8_N73VDyW"
      },
      "source": [
        "KFold Validation"
      ]
    },
    {
      "cell_type": "code",
      "metadata": {
        "colab": {
          "base_uri": "https://localhost:8080/"
        },
        "id": "xvJzeKvlVEpS",
        "outputId": "55b26f5c-c6f7-4d75-86ea-036644211b2c"
      },
      "source": [
        "kf = KFold(n_splits=3)\n",
        "kf"
      ],
      "execution_count": 6,
      "outputs": [
        {
          "output_type": "execute_result",
          "data": {
            "text/plain": [
              "KFold(n_splits=3, random_state=None, shuffle=False)"
            ]
          },
          "metadata": {
            "tags": []
          },
          "execution_count": 6
        }
      ]
    },
    {
      "cell_type": "markdown",
      "metadata": {
        "id": "MtD9TYyfVKNK"
      },
      "source": [
        "StratifiedKFold validation"
      ]
    },
    {
      "cell_type": "code",
      "metadata": {
        "colab": {
          "base_uri": "https://localhost:8080/"
        },
        "id": "w9igdPHEVK7Q",
        "outputId": "1d935d76-a076-4125-a811-f089cb57d387"
      },
      "source": [
        "skf = StratifiedKFold(n_splits=3)\n",
        "skf"
      ],
      "execution_count": 7,
      "outputs": [
        {
          "output_type": "execute_result",
          "data": {
            "text/plain": [
              "StratifiedKFold(n_splits=3, random_state=None, shuffle=False)"
            ]
          },
          "metadata": {
            "tags": []
          },
          "execution_count": 7
        }
      ]
    },
    {
      "cell_type": "markdown",
      "metadata": {
        "id": "0RtXOlucVRRc"
      },
      "source": [
        "Fitting data into different modules and evaluating score"
      ]
    },
    {
      "cell_type": "code",
      "metadata": {
        "colab": {
          "base_uri": "https://localhost:8080/"
        },
        "id": "YE0EAlv0VSAg",
        "outputId": "22f8a403-4d04-4fdd-d215-beaae82776ab"
      },
      "source": [
        "lr, svc, knn= [], [], []\n",
        "for train_index, test_index in skf.split(d.data, d.target):\n",
        "    X_train, X_test, y_train, y_test = d.data[train_index],d.data[test_index],d.target[train_index],d.target[test_index]\n",
        "    l.fit(X_train, y_train)\n",
        "    lr.append(l.score(X_test, y_test))\n",
        "    s.fit(X_train, y_train)\n",
        "    svc.append(s.score(X_test, y_test))\n",
        "    k.fit(X_train, y_train)\n",
        "    knn.append(k.score(X_test, y_test))\n",
        "print(lr)\n",
        "print(svc)\n",
        "print(knn)"
      ],
      "execution_count": 8,
      "outputs": [
        {
          "output_type": "stream",
          "text": [
            "[0.9248747913188647, 0.9415692821368948, 0.9232053422370617]\n",
            "[0.9649415692821369, 0.9799666110183639, 0.9649415692821369]\n",
            "[0.9582637729549248, 0.9632721202003339, 0.9666110183639399]\n"
          ],
          "name": "stdout"
        }
      ]
    },
    {
      "cell_type": "markdown",
      "metadata": {
        "id": "Ee7o2xCyVZ-F"
      },
      "source": [
        "Using cross_val_score with Logistic Regression"
      ]
    },
    {
      "cell_type": "code",
      "metadata": {
        "colab": {
          "base_uri": "https://localhost:8080/"
        },
        "id": "GCwTERVYVcI0",
        "outputId": "3cff9e33-1d5a-443f-a7e1-97b30226c605"
      },
      "source": [
        "cross_val_score(LogisticRegression(max_iter=10000),d.data,d.target)"
      ],
      "execution_count": 9,
      "outputs": [
        {
          "output_type": "execute_result",
          "data": {
            "text/plain": [
              "array([0.925     , 0.87777778, 0.93871866, 0.93314763, 0.89693593])"
            ]
          },
          "metadata": {
            "tags": []
          },
          "execution_count": 9
        }
      ]
    },
    {
      "cell_type": "markdown",
      "metadata": {
        "id": "3jKGi0fLVhI6"
      },
      "source": [
        "Using cross_val_score with SVM"
      ]
    },
    {
      "cell_type": "code",
      "metadata": {
        "id": "LeI4vSEUVh_s"
      },
      "source": [
        "cross_val_score(s, d.data, d.target, cv=5)"
      ],
      "execution_count": null,
      "outputs": []
    }
  ]
}