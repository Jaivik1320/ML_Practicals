{
  "nbformat": 4,
  "nbformat_minor": 0,
  "metadata": {
    "colab": {
      "name": "Ensemble classifier.ipynb",
      "provenance": []
    },
    "kernelspec": {
      "name": "python3",
      "display_name": "Python 3"
    },
    "language_info": {
      "name": "python"
    }
  },
  "cells": [
    {
      "cell_type": "markdown",
      "metadata": {
        "id": "RJ7RbNMmXj8m"
      },
      "source": [
        "Implement random forest on any dataset"
      ]
    },
    {
      "cell_type": "markdown",
      "metadata": {
        "id": "KP6N4ZtWXviB"
      },
      "source": [
        "\n",
        "Impoting necessary libraries"
      ]
    },
    {
      "cell_type": "code",
      "metadata": {
        "id": "hweqkTh2X1DB"
      },
      "source": [
        "import numpy as np\n",
        "import matplotlib.pyplot as mtp  \n",
        "import pandas as pd  \n",
        "from sklearn.model_selection import train_test_split  \n",
        "from sklearn.ensemble import RandomForestClassifier  \n",
        "from sklearn.metrics import confusion_matrix,ConfusionMatrixDisplay"
      ],
      "execution_count": 1,
      "outputs": []
    },
    {
      "cell_type": "markdown",
      "metadata": {
        "id": "6UhbmjPMX9Tx"
      },
      "source": [
        "Loading the given dataset\n"
      ]
    },
    {
      "cell_type": "code",
      "metadata": {
        "id": "y-dcVus3YwN1"
      },
      "source": [
        "data= pd.read_csv('state.csv')"
      ],
      "execution_count": null,
      "outputs": []
    },
    {
      "cell_type": "code",
      "metadata": {
        "id": "zQdXev6FY2Ke"
      },
      "source": [
        "print(data)"
      ],
      "execution_count": null,
      "outputs": []
    },
    {
      "cell_type": "code",
      "metadata": {
        "id": "7rM4DxAiY7ga"
      },
      "source": [
        "x= data.iloc[:, [0]].values  \n",
        "y= data.iloc[:, 1].values\n",
        "print(x)\n",
        "print(y)"
      ],
      "execution_count": null,
      "outputs": []
    },
    {
      "cell_type": "markdown",
      "metadata": {
        "id": "jn89LS4UY-9d"
      },
      "source": [
        "Splitting the dataset into training and test set"
      ]
    },
    {
      "cell_type": "code",
      "metadata": {
        "id": "-ekJzUrdY_hz"
      },
      "source": [
        "x_train, x_test, y_train, y_test= train_test_split(x, y, test_size= 0.3)  \n",
        "print(x_train)\n",
        "print(y_train)\n",
        "print(x_test)\n",
        "print(y_test)"
      ],
      "execution_count": null,
      "outputs": []
    },
    {
      "cell_type": "markdown",
      "metadata": {
        "id": "LJPBQtw0ZD8W"
      },
      "source": [
        "Fitting Decision Tree classifier to the training set"
      ]
    },
    {
      "cell_type": "code",
      "metadata": {
        "id": "oFBoCkHBZEfj"
      },
      "source": [
        "classifier= RandomForestClassifier(n_estimators= 15, criterion=\"entropy\")  \n",
        "classifier.fit(x_train, y_train)"
      ],
      "execution_count": null,
      "outputs": []
    }
  ]
}