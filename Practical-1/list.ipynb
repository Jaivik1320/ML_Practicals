{
  "nbformat": 4,
  "nbformat_minor": 0,
  "metadata": {
    "colab": {
      "name": "Untitled4.ipynb",
      "provenance": []
    },
    "kernelspec": {
      "name": "python3",
      "display_name": "Python 3"
    },
    "language_info": {
      "name": "python"
    }
  },
  "cells": [
    {
      "cell_type": "code",
      "metadata": {
        "colab": {
          "base_uri": "https://localhost:8080/"
        },
        "id": "FG7PZEXnIOCB",
        "outputId": "4fc04aba-f4cc-493a-bc90-629d81423580"
      },
      "source": [
        "nums=[25,12,36,95,14]\n",
        "nums\n"
      ],
      "execution_count": 1,
      "outputs": [
        {
          "output_type": "execute_result",
          "data": {
            "text/plain": [
              "[25, 12, 36, 95, 14]"
            ]
          },
          "metadata": {
            "tags": []
          },
          "execution_count": 1
        }
      ]
    },
    {
      "cell_type": "code",
      "metadata": {
        "colab": {
          "base_uri": "https://localhost:8080/"
        },
        "id": "yiTGjhc0IT0c",
        "outputId": "a83eb9db-a9a2-4cf4-e474-4c0a72171325"
      },
      "source": [
        "nums[4]"
      ],
      "execution_count": 2,
      "outputs": [
        {
          "output_type": "execute_result",
          "data": {
            "text/plain": [
              "14"
            ]
          },
          "metadata": {
            "tags": []
          },
          "execution_count": 2
        }
      ]
    },
    {
      "cell_type": "code",
      "metadata": {
        "colab": {
          "base_uri": "https://localhost:8080/"
        },
        "id": "ywFaL4VDIWrB",
        "outputId": "9b48fcbc-306b-4769-aff2-47abe864e63d"
      },
      "source": [
        "nums[2:]"
      ],
      "execution_count": 3,
      "outputs": [
        {
          "output_type": "execute_result",
          "data": {
            "text/plain": [
              "[36, 95, 14]"
            ]
          },
          "metadata": {
            "tags": []
          },
          "execution_count": 3
        }
      ]
    },
    {
      "cell_type": "code",
      "metadata": {
        "colab": {
          "base_uri": "https://localhost:8080/"
        },
        "id": "iu3bDTlSIZYN",
        "outputId": "9120eb80-59ba-4de9-ddc4-2f1e9f5cd91c"
      },
      "source": [
        "nums[-5]"
      ],
      "execution_count": 4,
      "outputs": [
        {
          "output_type": "execute_result",
          "data": {
            "text/plain": [
              "25"
            ]
          },
          "metadata": {
            "tags": []
          },
          "execution_count": 4
        }
      ]
    },
    {
      "cell_type": "code",
      "metadata": {
        "colab": {
          "base_uri": "https://localhost:8080/"
        },
        "id": "09kCK7M2IbhJ",
        "outputId": "66022b07-6ffb-41df-fb67-88d24ea977de"
      },
      "source": [
        "names=['jaivik','parekh','shah']\n",
        "names"
      ],
      "execution_count": 5,
      "outputs": [
        {
          "output_type": "execute_result",
          "data": {
            "text/plain": [
              "['jaivik', 'parekh', 'shah']"
            ]
          },
          "metadata": {
            "tags": []
          },
          "execution_count": 5
        }
      ]
    },
    {
      "cell_type": "code",
      "metadata": {
        "colab": {
          "base_uri": "https://localhost:8080/"
        },
        "id": "FLmV5htqIkOv",
        "outputId": "cfc2ddac-2b6b-4c58-c817-42e0b519f6dc"
      },
      "source": [
        "mil=[nums,names]\n",
        "mil"
      ],
      "execution_count": 6,
      "outputs": [
        {
          "output_type": "execute_result",
          "data": {
            "text/plain": [
              "[[25, 12, 36, 95, 14], ['jaivik', 'parekh', 'shah']]"
            ]
          },
          "metadata": {
            "tags": []
          },
          "execution_count": 6
        }
      ]
    },
    {
      "cell_type": "code",
      "metadata": {
        "colab": {
          "base_uri": "https://localhost:8080/"
        },
        "id": "VwFDOjDhIqsp",
        "outputId": "69186063-d0ef-41c8-b625-8fd82274d23f"
      },
      "source": [
        "nums.append(45)\n",
        "nums"
      ],
      "execution_count": 7,
      "outputs": [
        {
          "output_type": "execute_result",
          "data": {
            "text/plain": [
              "[25, 12, 36, 95, 14, 45]"
            ]
          },
          "metadata": {
            "tags": []
          },
          "execution_count": 7
        }
      ]
    },
    {
      "cell_type": "code",
      "metadata": {
        "colab": {
          "base_uri": "https://localhost:8080/"
        },
        "id": "IYSOflEmIwC8",
        "outputId": "81e8166a-62fb-4382-ffc1-9a69820f65df"
      },
      "source": [
        "nums.insert(2,26)\n",
        "nums"
      ],
      "execution_count": 8,
      "outputs": [
        {
          "output_type": "execute_result",
          "data": {
            "text/plain": [
              "[25, 12, 26, 36, 95, 14, 45]"
            ]
          },
          "metadata": {
            "tags": []
          },
          "execution_count": 8
        }
      ]
    },
    {
      "cell_type": "code",
      "metadata": {
        "colab": {
          "base_uri": "https://localhost:8080/"
        },
        "id": "vZPineRCIymU",
        "outputId": "b46488ab-9658-46da-f02e-8572cdb39d39"
      },
      "source": [
        "nums.remove(14)\n",
        "nums"
      ],
      "execution_count": 9,
      "outputs": [
        {
          "output_type": "execute_result",
          "data": {
            "text/plain": [
              "[25, 12, 26, 36, 95, 45]"
            ]
          },
          "metadata": {
            "tags": []
          },
          "execution_count": 9
        }
      ]
    },
    {
      "cell_type": "code",
      "metadata": {
        "colab": {
          "base_uri": "https://localhost:8080/"
        },
        "id": "AvmNZH0NI1P5",
        "outputId": "8586edd9-8b70-4d79-93c0-49a5c20581bd"
      },
      "source": [
        "nums.pop()\n",
        "nums"
      ],
      "execution_count": 10,
      "outputs": [
        {
          "output_type": "execute_result",
          "data": {
            "text/plain": [
              "[25, 12, 26, 36, 95]"
            ]
          },
          "metadata": {
            "tags": []
          },
          "execution_count": 10
        }
      ]
    },
    {
      "cell_type": "code",
      "metadata": {
        "colab": {
          "base_uri": "https://localhost:8080/"
        },
        "id": "-Yg_rmAkI4c1",
        "outputId": "c766b6e0-2a53-411f-b086-70bd6768c42f"
      },
      "source": [
        "nums.sort()\n",
        "nums"
      ],
      "execution_count": 11,
      "outputs": [
        {
          "output_type": "execute_result",
          "data": {
            "text/plain": [
              "[12, 25, 26, 36, 95]"
            ]
          },
          "metadata": {
            "tags": []
          },
          "execution_count": 11
        }
      ]
    },
    {
      "cell_type": "code",
      "metadata": {
        "colab": {
          "base_uri": "https://localhost:8080/"
        },
        "id": "howF9QiwI7oZ",
        "outputId": "f44245b3-3779-4ed0-f80f-0ecc4883e807"
      },
      "source": [
        "nums.count(2)\n",
        "nums"
      ],
      "execution_count": 12,
      "outputs": [
        {
          "output_type": "execute_result",
          "data": {
            "text/plain": [
              "[12, 25, 26, 36, 95]"
            ]
          },
          "metadata": {
            "tags": []
          },
          "execution_count": 12
        }
      ]
    },
    {
      "cell_type": "code",
      "metadata": {
        "colab": {
          "base_uri": "https://localhost:8080/"
        },
        "id": "MvVcdNzgI-t9",
        "outputId": "7a88592e-e010-4129-e94e-c925fd79dd87"
      },
      "source": [
        "del nums[3:]\n",
        "nums"
      ],
      "execution_count": 13,
      "outputs": [
        {
          "output_type": "execute_result",
          "data": {
            "text/plain": [
              "[12, 25, 26]"
            ]
          },
          "metadata": {
            "tags": []
          },
          "execution_count": 13
        }
      ]
    },
    {
      "cell_type": "code",
      "metadata": {
        "colab": {
          "base_uri": "https://localhost:8080/"
        },
        "id": "RgBLA0T4JBL9",
        "outputId": "0103a618-5584-4a40-bc8c-fcce9e74f87a"
      },
      "source": [
        "nums.extend([29,12,14,78])\n",
        "nums"
      ],
      "execution_count": 14,
      "outputs": [
        {
          "output_type": "execute_result",
          "data": {
            "text/plain": [
              "[12, 25, 26, 29, 12, 14, 78]"
            ]
          },
          "metadata": {
            "tags": []
          },
          "execution_count": 14
        }
      ]
    },
    {
      "cell_type": "code",
      "metadata": {
        "colab": {
          "base_uri": "https://localhost:8080/"
        },
        "id": "nK1RHOqyJD0y",
        "outputId": "9f4289c4-0199-4256-9d20-598152ca7765"
      },
      "source": [
        "min(nums)"
      ],
      "execution_count": 15,
      "outputs": [
        {
          "output_type": "execute_result",
          "data": {
            "text/plain": [
              "12"
            ]
          },
          "metadata": {
            "tags": []
          },
          "execution_count": 15
        }
      ]
    },
    {
      "cell_type": "code",
      "metadata": {
        "id": "1r44MEM4JGK1",
        "outputId": "f5f41674-7ee2-4582-8f13-354db46a4e05",
        "colab": {
          "base_uri": "https://localhost:8080/"
        }
      },
      "source": [
        "max(nums)"
      ],
      "execution_count": 16,
      "outputs": [
        {
          "output_type": "execute_result",
          "data": {
            "text/plain": [
              "78"
            ]
          },
          "metadata": {
            "tags": []
          },
          "execution_count": 16
        }
      ]
    },
    {
      "cell_type": "code",
      "metadata": {
        "id": "bp85mZnJJJxY",
        "outputId": "e9b2cc05-07ad-41c9-c23e-8bef06cb7ba4",
        "colab": {
          "base_uri": "https://localhost:8080/"
        }
      },
      "source": [
        "nums.sort()\n",
        "nums"
      ],
      "execution_count": 17,
      "outputs": [
        {
          "output_type": "execute_result",
          "data": {
            "text/plain": [
              "[12, 12, 14, 25, 26, 29, 78]"
            ]
          },
          "metadata": {
            "tags": []
          },
          "execution_count": 17
        }
      ]
    }
  ]
}