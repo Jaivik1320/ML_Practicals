{
  "nbformat": 4,
  "nbformat_minor": 0,
  "metadata": {
    "colab": {
      "name": "numpy.ipynb",
      "provenance": []
    },
    "kernelspec": {
      "name": "python3",
      "display_name": "Python 3"
    },
    "language_info": {
      "name": "python"
    }
  },
  "cells": [
    {
      "cell_type": "code",
      "metadata": {
        "colab": {
          "base_uri": "https://localhost:8080/"
        },
        "id": "0DH9uuL-Jhnv",
        "outputId": "4c605c72-b90f-41ac-f8b1-1148b1a84a5e"
      },
      "source": [
        "import numpy as np\n",
        "a=np.array([[1, 2, 3], [4, 5, 6]])\n",
        "print('array using list:\\n',a)"
      ],
      "execution_count": 1,
      "outputs": [
        {
          "output_type": "stream",
          "text": [
            "array using list:\n",
            " [[1 2 3]\n",
            " [4 5 6]]\n"
          ],
          "name": "stdout"
        }
      ]
    },
    {
      "cell_type": "code",
      "metadata": {
        "colab": {
          "base_uri": "https://localhost:8080/"
        },
        "id": "0ss7QKFBJ3Yv",
        "outputId": "0e47fc36-2c96-47e6-d6d0-08db75562fec"
      },
      "source": [
        "b=np.array((1 , 3, 2))\n",
        "print('array using tuple:\\n',b)"
      ],
      "execution_count": 2,
      "outputs": [
        {
          "output_type": "stream",
          "text": [
            "array using tuple:\n",
            " [1 3 2]\n"
          ],
          "name": "stdout"
        }
      ]
    },
    {
      "cell_type": "code",
      "metadata": {
        "colab": {
          "base_uri": "https://localhost:8080/"
        },
        "id": "ECk-QQX2J6Ge",
        "outputId": "b5b87e70-0e62-4a9c-c997-7466c992d9ce"
      },
      "source": [
        "c=np.zeros((3, 4))\n",
        "print(\"array created with all zeros:\\n\", c)"
      ],
      "execution_count": 3,
      "outputs": [
        {
          "output_type": "stream",
          "text": [
            "array created with all zeros:\n",
            " [[0. 0. 0. 0.]\n",
            " [0. 0. 0. 0.]\n",
            " [0. 0. 0. 0.]]\n"
          ],
          "name": "stdout"
        }
      ]
    },
    {
      "cell_type": "code",
      "metadata": {
        "colab": {
          "base_uri": "https://localhost:8080/"
        },
        "id": "VOJpKdpkJ8qX",
        "outputId": "f2d90179-ec8e-49fa-f335-0e0714b29c57"
      },
      "source": [
        "d=np.random.random((3,3))\n",
        "print('random array:\\n',d)"
      ],
      "execution_count": 4,
      "outputs": [
        {
          "output_type": "stream",
          "text": [
            "random array:\n",
            " [[0.63904363 0.29069514 0.17288428]\n",
            " [0.61609446 0.37321819 0.91920532]\n",
            " [0.9382027  0.11701766 0.97947762]]\n"
          ],
          "name": "stdout"
        }
      ]
    },
    {
      "cell_type": "code",
      "metadata": {
        "colab": {
          "base_uri": "https://localhost:8080/"
        },
        "id": "8o4-rnb3KAWw",
        "outputId": "9c7cb781-3eec-4062-ed3a-a926278f7424"
      },
      "source": [
        "arr=np.array([[-1,2,0,4],[4,-0.5,6,0],[2.6,0,7,8],[3,-7,4,2.0]])\n",
        "temp=arr[:2,:2]\n",
        "temp"
      ],
      "execution_count": 5,
      "outputs": [
        {
          "output_type": "execute_result",
          "data": {
            "text/plain": [
              "array([[-1. ,  2. ],\n",
              "       [ 4. , -0.5]])"
            ]
          },
          "metadata": {
            "tags": []
          },
          "execution_count": 5
        }
      ]
    },
    {
      "cell_type": "code",
      "metadata": {
        "colab": {
          "base_uri": "https://localhost:8080/"
        },
        "id": "RgmbeE8ZKDDb",
        "outputId": "b11333d4-28d4-4bef-b535-49eeafcda32e"
      },
      "source": [
        "a=np.array([[1, 2, 3], [3, 4, 5], [9, 6, 0]])\n",
        "print('original array:\\n',a)\n",
        "print('transpose array:\\n',a.T)"
      ],
      "execution_count": 6,
      "outputs": [
        {
          "output_type": "stream",
          "text": [
            "original array:\n",
            " [[1 2 3]\n",
            " [3 4 5]\n",
            " [9 6 0]]\n",
            "transpose array:\n",
            " [[1 3 9]\n",
            " [2 4 6]\n",
            " [3 5 0]]\n"
          ],
          "name": "stdout"
        }
      ]
    }
  ]
}